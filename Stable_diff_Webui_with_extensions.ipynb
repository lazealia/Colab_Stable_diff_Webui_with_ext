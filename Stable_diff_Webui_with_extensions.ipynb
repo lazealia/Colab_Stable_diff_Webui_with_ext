{
  "cells": [
    {
      "cell_type": "markdown",
      "metadata": {
        "id": "view-in-github",
        "colab_type": "text"
      },
      "source": [
        "<a href=\"https://colab.research.google.com/github/lazealia/Colab_Stable_diff_Webui_with_ext/blob/main/Stable_diff_Webui_with_extensions.ipynb\" target=\"_parent\"><img src=\"https://colab.research.google.com/assets/colab-badge.svg\" alt=\"Open In Colab\"/></a>"
      ]
    },
    {
      "cell_type": "markdown",
      "source": [
        "# 1. Play music player for maintain browser tab\n"
      ],
      "metadata": {
        "id": "JwZxh8KefAkx"
      }
    },
    {
      "cell_type": "code",
      "source": [
        "#@title\n",
        "#@markdown #Music player for maintain browser tab.\n",
        "%%html\n",
        "<audio controls autoplay muted>\n",
        "  <source src=\"https://henk.tech/colabkobold/silence.m4a\">\n",
        "</audio>\n",
        "<br><b>Play music player for maintain browser tab</b>"
      ],
      "metadata": {
        "id": "w51DCdt26AjK",
        "cellView": "form"
      },
      "execution_count": null,
      "outputs": []
    },
    {
      "cell_type": "markdown",
      "metadata": {
        "id": "bsiZpfkU7S77"
      },
      "source": [
        "# 2. Setup the web ui"
      ]
    },
    {
      "cell_type": "code",
      "execution_count": null,
      "metadata": {
        "id": "sBbcB4vwj_jm"
      },
      "outputs": [],
      "source": [
        "#@title\n",
        "#@markdown # Setup the web ui 4 steps\n",
        "\n",
        "#@markdown  #1. Memfix and Clone Git\n",
        "!curl -Lo memfix.zip https://github.com/lazealia/Stable_Diff_WebUI_with_Ext/raw/main/memfix/memfix.zip\n",
        "!unzip /content/memfix.zip\n",
        "!apt install -qq libunwind8-dev\n",
        "!dpkg -i *.deb\n",
        "%env LD_PRELOAD=libtcmalloc.so\n",
        "!rm *\n",
        "!pip install --upgrade fastapi\n",
        "!git clone https://github.com/lazealia/Stable_Diff_WebUI_with_Ext\n",
        "\n",
        "#@markdown #2. Model(s) setup : Choose any model that you want.\n",
        "AOM3 = False #@param {type:\"boolean\"} \n",
        "if AOM3 == True :\n",
        "  !curl -Lo /content/Stable_Diff_WebUI_with_Ext/models/Stable-diffusion/AOM3.safetensors https://huggingface.co/ckpt/OrangeMixs/resolve/main/AOM3.safetensors\n",
        "Chilloutmix_NiPrunedFp32Fix = True #@param {type:\"boolean\"}\n",
        "if Chilloutmix_NiPrunedFp32Fix == True :\n",
        "  !curl -Lo /content/Stable_Diff_WebUI_with_Ext/models/Stable-diffusion/chilloutmix_NiPrunedFp32Fix.safetensors https://huggingface.co/ckpt/chilloutmix/resolve/main/chilloutmix_NiPrunedFp32Fix.safetensors\n",
        "Counterfeit_V2_5 = True #@param {type:\"boolean\"}\n",
        "if Counterfeit_V2_5  == True :\n",
        "  !curl -Lo /content/Stable_Diff_WebUI_with_Ext/models/Stable-diffusion/Counterfeit-V2.5.safetensors https://huggingface.co/gsdf/Counterfeit-V2.5/resolve/main/Counterfeit-V2.5.safetensors\n",
        "Mdjrny_V4 = False #@param {type:\"boolean\"}\n",
        "if Mdjrny_V4 == True :\n",
        "  !curl -Lo /content/Stable_Diff_WebUI_with_Ext/models/Stable-diffusion/mdjrny-v4.ckpt https://huggingface.co/ckpt/midjourney-v4-diffusion/resolve/main/mdjrny-v4.ckpt\n",
        "Openjourney_V4 = True #@param {type:\"boolean\"}\n",
        "if Openjourney_V4 == True :\n",
        "  !curl -Lo /content/Stable_Diff_WebUI_with_Ext/models/Stable-diffusion/openjourney-v4.ckpt https://huggingface.co/prompthero/openjourney-v4/resolve/main/openjourney-v4.ckpt\n",
        "\n",
        "#@markdown #3. VAE setup : Choose any VAE that you want.\n",
        "blessed2_vae = True #@param {type:\"boolean\"}\n",
        "if blessed2_vae  == True :\n",
        "  !curl -Lo /content/Stable_Diff_WebUI_with_Ext/models/VAE/blessed2.vae.pt https://huggingface.co/NoCrypt/blessed_vae/resolve/main/blessed2.vae.pt\n",
        "kl_f8_anime2 = True #@param {type:\"boolean\"}\n",
        "if kl_f8_anime2  == True :\n",
        "  !curl -Lo /content/Stable_Diff_WebUI_with_Ext/models/VAE/kl-f8-anime2.ckpt https://huggingface.co/hakurei/waifu-diffusion-v1-4/resolve/main/vae/kl-f8-anime2.ckpt\n",
        "pastel_waifu_vae = False #@param {type:\"boolean\"}\n",
        "if pastel_waifu_vae  == True :\n",
        "  !curl -Lo /content/Stable_Diff_WebUI_with_Ext/models/VAE/pastel-waifu-diffusion.vae.pt https://huggingface.co/andite/pastel-mix/resolve/main/pastel-waifu-diffusion.vae.pt\n",
        "\n",
        "#@markdown  #4. ControlNet Extensions setup\n",
        "# ControlNet\n",
        "ControlNet_extension = True #@param {type:\"boolean\"}\n",
        "if ControlNet_extension  == True :\n",
        "  !curl -Lo /content/Stable_Diff_WebUI_with_Ext/extensions/sd-webui-controlnet/models/control_canny.safetensors https://huggingface.co/webui/ControlNet-modules-safetensors/resolve/main/control_canny-fp16.safetensors\n",
        "  !curl -Lo /content/Stable_Diff_WebUI_with_Ext/extensions/sd-webui-controlnet/models/control_depth.safetensors https://huggingface.co/webui/ControlNet-modules-safetensors/resolve/main/control_depth-fp16.safetensors\n",
        "  !curl -Lo /content/Stable_Diff_WebUI_with_Ext/extensions/sd-webui-controlnet/models/control_hed-fp16.safetensors https://huggingface.co/webui/ControlNet-modules-safetensors/resolve/main/control_hed-fp16.safetensors\n",
        "  !curl -Lo /content/Stable_Diff_WebUI_with_Ext/extensions/sd-webui-controlnet/models/control_mlsd-fp16.safetensors https://huggingface.co/webui/ControlNet-modules-safetensors/resolve/main/control_mlsd-fp16.safetensors\n",
        "  !curl -Lo /content/Stable_Diff_WebUI_with_Ext/extensions/sd-webui-controlnet/models/control_normal-fp16.safetensors https://huggingface.co/webui/ControlNet-modules-safetensors/resolve/main/control_normal-fp16.safetensors\n",
        "  !curl -Lo /content/Stable_Diff_WebUI_with_Ext/extensions/sd-webui-controlnet/models/control_openpose-fp16.safetensors https://huggingface.co/webui/ControlNet-modules-safetensors/resolve/main/control_openpose-fp16.safetensors\n",
        "  !curl -Lo /content/Stable_Diff_WebUI_with_Ext/extensions/sd-webui-controlnet/models/control_scribble-fp16.safetensors https://huggingface.co/webui/ControlNet-modules-safetensors/resolve/main/control_scribble-fp16.safetensors\n",
        "  !curl -Lo /content/Stable_Diff_WebUI_with_Ext/extensions/sd-webui-controlnet/models/control_seg-fp16.safetensors https://huggingface.co/webui/ControlNet-modules-safetensors/resolve/main/control_seg-fp16.safetensors\n",
        "t2iadapter_extension = True #@param {type:\"boolean\"}\n",
        "if t2iadapter_extension  == True :\n",
        "  !curl -Lo /content/Stable_Diff_WebUI_with_Ext/extensions/sd-webui-controlnet/models/t2iadapter_canny_sd15v2.pth https://huggingface.co/TencentARC/T2I-Adapter/resolve/main/models/t2iadapter_canny_sd15v2.pth\n",
        "  !curl -Lo /content/Stable_Diff_WebUI_with_Ext/extensions/sd-webui-controlnet/models/t2iadapter_color_sd14v1.pth https://huggingface.co/TencentARC/T2I-Adapter/resolve/main/models/t2iadapter_color_sd14v1.pth\n",
        "  !curl -Lo /content/Stable_Diff_WebUI_with_Ext/extensions/sd-webui-controlnet/models/t2iadapter_depth_sd15v2.pth https://huggingface.co/TencentARC/T2I-Adapter/resolve/main/models/t2iadapter_depth_sd15v2.pth\n",
        "  !curl -Lo /content/Stable_Diff_WebUI_with_Ext/extensions/sd-webui-controlnet/models/t2iadapter_keypose_sd14v1.pth https://huggingface.co/TencentARC/T2I-Adapter/resolve/main/models/t2iadapter_keypose_sd14v1.pth\n",
        "  !curl -Lo /content/Stable_Diff_WebUI_with_Ext/extensions/sd-webui-controlnet/models/t2iadapter_openpose_sd14v1.pth https://huggingface.co/TencentARC/T2I-Adapter/resolve/main/models/t2iadapter_openpose_sd14v1.pth\n",
        "  !curl -Lo /content/Stable_Diff_WebUI_with_Ext/extensions/sd-webui-controlnet/models/t2iadapter_seg_sd14v1.pth https://huggingface.co/TencentARC/T2I-Adapter/resolve/main/models/t2iadapter_seg_sd14v1.pth\n",
        "  !curl -Lo /content/Stable_Diff_WebUI_with_Ext/extensions/sd-webui-controlnet/models/t2iadapter_sketch_sd15v2.pth  https://huggingface.co/TencentARC/T2I-Adapter/resolve/main/models/t2iadapter_sketch_sd15v2.pth\n",
        "  !curl -Lo /content/Stable_Diff_WebUI_with_Ext/extensions/sd-webui-controlnet/models/t2iadapter_style_sd14v1.pth https://huggingface.co/TencentARC/T2I-Adapter/resolve/main/models/t2iadapter_style_sd14v1.pth\n",
        "\n",
        "%cd /content/Stable_Diff_WebUI_with_Ext\n",
        "\n",
        "#!git checkout c56417748754758e58081c4cfee0929a5f894118\n",
        "!pip install torch==1.13.1+cu117 torchvision==0.14.1+cu117 torchtext==0.14.1 torchaudio==0.13.1 torchdata==0.5.1 --extra-index-url https://download.pytorch.org/whl/cu117\n",
        "# Web UI tunnel\n",
        "#!COMMANDLINE_ARGS=\"--share --disable-safe-unpickle --no-half-vae --xformers --enable-insecure-extension- --gradio-queue --theme dark --remotemoe\" REQS_FILE=\"requirements.txt\" python launch.py\n",
        "# If remotemoe failed to start, change '--remotemoe' to '--cloudflared' on the COMMANDLINE_ARGS line above to use cloudflare tunnel"
      ]
    },
    {
      "cell_type": "markdown",
      "metadata": {
        "id": "DQwVPx-t8Nol"
      },
      "source": [
        "# 3. If you want to add your own models RUN These \n",
        "# If not you can go Step 4."
      ]
    },
    {
      "cell_type": "code",
      "execution_count": null,
      "metadata": {
        "id": "alypPmxi69M4"
      },
      "outputs": [],
      "source": [
        "from google.colab import drive\n",
        "drive.mount('/content/drive')\n",
        "\n",
        "# You need to upload Model, Lora and Embeddings into google drive on specific path.\n",
        "!mkdir -p '/content/drive/MyDrive/Colab Notebooks/My_Lora/'\n",
        "!mkdir -p '/content/drive/MyDrive/Colab Notebooks/My_Model/'\n",
        "#!mkdir -p '/content/drive/MyDrive/Colab Notebooks/My_Embeddings/'\n",
        "#!mkdir -p '/content/drive/MyDrive/Colab Notebooks/My_ESRGAN/'\n",
        "!cp -r '/content/drive/MyDrive/Colab Notebooks/My_Lora/.' '/content/Stable_Diff_WebUI_with_Ext/models/Lora'\n",
        "!cp -r '/content/drive/MyDrive/Colab Notebooks/My_Model/.' '/content/Stable_Diff_WebUI_with_Ext/models/Stable-diffusion'\n",
        "#!cp -r '/content/drive/MyDrive/Colab Notebooks/My_Embeddings/.' '/content/Stable_Diff_WebUI_with_Ext/embeddings'\n",
        "#!cp -r '/content/drive/MyDrive/Colab Notebooks/My_ESRGAN/.' '/content/Stable_Diff_WebUI_with_Ext/models/ESRGAN'"
      ]
    },
    {
      "cell_type": "markdown",
      "metadata": {
        "id": "R-WXDJ8n8R2X"
      },
      "source": [
        "# 4. Launch the Web UI\n",
        "# Click at public URL to Used Web UI via tunnel"
      ]
    },
    {
      "cell_type": "code",
      "execution_count": null,
      "metadata": {
        "id": "TFuxn-DE7t82"
      },
      "outputs": [],
      "source": [
        "# Web UI tunnel\n",
        "%cd /content/Stable_Diff_WebUI_with_Ext\n",
        "#!git checkout c56417748754758e58081c4cfee0929a5f894118\n",
        "\n",
        "!COMMANDLINE_ARGS=\"--share --disable-safe-unpickle --no-half-vae --xformers --enable-insecure-extension- --theme dark --gradio-queue --remotemoe\" REQS_FILE=\"requirements.txt\" python launch.py\n",
        "# If remotemoe failed to start, change '--remotemoe' to '--cloudflared' on the COMMANDLINE_ARGS line above to use cloudflare tunnel\n",
        "# Negative prompts: (low quality, worst quality:1.4)"
      ]
    },
    {
      "cell_type": "markdown",
      "metadata": {
        "id": "SoAX7W-UCF65"
      },
      "source": [
        "# Option 1. Download new models & VAE"
      ]
    },
    {
      "cell_type": "markdown",
      "metadata": {
        "id": "OJx4QIQosMMq"
      },
      "source": [
        "After finished load new model, Restart SD webui"
      ]
    },
    {
      "cell_type": "code",
      "execution_count": null,
      "metadata": {
        "id": "SaAJk33ppFw1",
        "cellView": "form"
      },
      "outputs": [],
      "source": [
        "!apt-get -y install -qq aria2\n",
        "\n",
        "model_url1 = \"https://huggingface.co/ckpt/midjourney-v4-diffusion/resolve/main/mdjrny-v4.ckpt\" #@param {type:\"string\"}\n",
        "model_name1 = \"mdjrny-v4.ckpt\" #@param {type:\"string\"}\n",
        "model_url1 = f\"\\\"{model_url1}\\\"\"\n",
        "!aria2c --console-log-level=error -c -x 16 -s 16 -k 1M {model_url1} -d /content/Stable_Diff_WebUI_with_Ext/models/Stable-diffusion -o {model_name1}\n",
        "#@markdown ---\n",
        "model_url2 = \"\" #@param {type:\"string\"}\n",
        "model_name2 = \"\" #@param {type:\"string\"}\n",
        "model_url2 = f\"\\\"{model_url2}\\\"\"\n",
        "!aria2c --console-log-level=error -c -x 16 -s 16 -k 1M {model_url2} -d /content/Stable_Diff_WebUI_with_Ext/models/Stable-diffusion -o {model_name2}\n",
        "#@markdown ---\n"
      ]
    },
    {
      "cell_type": "markdown",
      "metadata": {
        "id": "Tx5NyfrLCF68"
      },
      "source": [
        "# Option 2. Copy Generate file to Google Drive"
      ]
    },
    {
      "cell_type": "code",
      "execution_count": null,
      "metadata": {
        "id": "0xK2m84ICF69"
      },
      "outputs": [],
      "source": [
        "from google.colab import drive\n",
        "drive.mount('/content/drive')\n",
        "# Copy all genterate file to outputs folder on Google Drive\n",
        "# Stop SD Webui before run these cell\n",
        "\n",
        "!mkdir -p '/content/drive/MyDrive/outputs/'\n",
        "!cp -r '/content/Stable_Diff_WebUI_with_Ext/outputs/.' '/content/drive/MyDrive/outputs/'\n",
        "# ...."
      ]
    },
    {
      "cell_type": "code",
      "source": [
        "from google.colab import drive\n",
        "drive.mount('/content/drive')\n",
        "\n",
        "!mkdir -p '/content/drive/MyDrive/Colab Notebooks/My_Embeddings/'\n",
        "!cp -r '/content/Stable_Diff_WebUI_with_Ext/embeddings/.' '/content/drive/MyDrive/Colab Notebooks/My_Embeddings/'\n"
      ],
      "metadata": {
        "id": "OwZTSxDbpYPz"
      },
      "execution_count": null,
      "outputs": []
    }
  ],
  "metadata": {
    "accelerator": "GPU",
    "colab": {
      "provenance": [],
      "include_colab_link": true
    },
    "gpuClass": "standard",
    "kernelspec": {
      "display_name": "Python 3",
      "name": "python3"
    },
    "language_info": {
      "name": "python"
    }
  },
  "nbformat": 4,
  "nbformat_minor": 0
}