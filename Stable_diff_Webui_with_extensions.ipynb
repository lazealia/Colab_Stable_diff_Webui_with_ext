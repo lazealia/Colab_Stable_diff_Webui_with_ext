{
  "cells": [
    {
      "cell_type": "markdown",
      "metadata": {
        "id": "view-in-github",
        "colab_type": "text"
      },
      "source": [
        "<a href=\"https://colab.research.google.com/github/lazealia/Colab_Stable_diff_Webui_with_ext/blob/main/Stable_diff_Webui_with_extensions.ipynb\" target=\"_parent\"><img src=\"https://colab.research.google.com/assets/colab-badge.svg\" alt=\"Open In Colab\"/></a>"
      ]
    },
    {
      "cell_type": "markdown",
      "metadata": {
        "id": "JwZxh8KefAkx"
      },
      "source": [
        "# 1. Play music player for maintain browser tab\n"
      ]
    },
    {
      "cell_type": "code",
      "execution_count": null,
      "metadata": {
        "cellView": "form",
        "colab": {
          "base_uri": "https://localhost:8080/",
          "height": 93
        },
        "id": "w51DCdt26AjK",
        "outputId": "4c0056bd-9819-4fc4-8e57-fbc50d5368b8"
      },
      "outputs": [
        {
          "output_type": "display_data",
          "data": {
            "text/plain": [
              "<IPython.core.display.HTML object>"
            ],
            "text/html": [
              "<audio controls autoplay muted>\n",
              "  <source src=\"https://henk.tech/colabkobold/silence.m4a\">\n",
              "</audio>\n",
              "<br><b>Play music player for maintain browser tab</b>\n"
            ]
          },
          "metadata": {}
        }
      ],
      "source": [
        "#@title\n",
        "#@markdown #Music player for maintain browser tab.\n",
        "%%html\n",
        "<audio controls autoplay muted>\n",
        "  <source src=\"https://henk.tech/colabkobold/silence.m4a\">\n",
        "</audio>\n",
        "<br><b>Play music player for maintain browser tab</b>"
      ]
    },
    {
      "cell_type": "markdown",
      "metadata": {
        "id": "bsiZpfkU7S77"
      },
      "source": [
        "# 2. Setup the web ui"
      ]
    },
    {
      "cell_type": "code",
      "execution_count": null,
      "metadata": {
        "id": "sBbcB4vwj_jm"
      },
      "outputs": [],
      "source": [
        "#@title  { vertical-output: true, display-mode: \"form\" }\n",
        "#@title  { vertical-output: true, display-mode: \"form\" }\n",
        "#@title  { vertical-output: true, display-mode: \"form\" }\n",
        "#@title  { vertical-output: true, display-mode: \"form\" }\n",
        "#@title\n",
        "#@markdown # Setup the web UI 4 steps\n",
        "#@markdown ---\n",
        "\n",
        "#@markdown  #1. Memfix and Clone Git\n",
        "!curl -Lo memfix.zip https://github.com/lazealia/Stable_Diff_WebUI_with_Ext/raw/main/memfix/memfix.zip\n",
        "!unzip /content/memfix.zip\n",
        "!apt install -qq libunwind8-dev\n",
        "!apt install -qq libcairo2-dev pkg-config python3-dev\n",
        "!dpkg -i *.deb\n",
        "%env LD_PRELOAD=libtcmalloc.so\n",
        "!rm *\n",
        "!pip install --upgrade fastapi\n",
        "#!pip install torch==1.13.1+cu117 torchvision==0.14.1+cu117 torchtext==0.14.1 torchaudio==0.13.1 torchdata==0.5.1 --extra-index-url https://download.pytorch.org/whl/cu117\n",
        "!git clone https://github.com/lazealia/Stable_Diff_WebUI_with_Ext\n",
        "\n",
        "#@markdown #2. Model setup : Choose any model that you want.\n",
        "AOM3_2GB = False #@param {type:\"boolean\"} \n",
        "if AOM3_2GB == True :\n",
        "  !curl -Lo /content/Stable_Diff_WebUI_with_Ext/models/Stable-diffusion/AOM3.safetensors https://huggingface.co/ckpt/OrangeMixs/resolve/main/AOM3.safetensors\n",
        "BRAV5finalfp16_3GB = True #@param {type:\"boolean\"} \n",
        "if BRAV5finalfp16_3GB == True :\n",
        "  !curl -Lo /content/Stable_Diff_WebUI_with_Ext/models/Stable-diffusion/BRAV5finalfp16.safetensors https://huggingface.co/BanKaiPls/AsianModel/resolve/main/BRAV5finalfp16.safetensors\n",
        "Chilloutmix_NiPrunedFp32Fix_4GB = False #@param {type:\"boolean\"}\n",
        "if Chilloutmix_NiPrunedFp32Fix_4GB == True :\n",
        "  !curl -Lo /content/Stable_Diff_WebUI_with_Ext/models/Stable-diffusion/chilloutmix_NiPrunedFp32Fix.safetensors https://huggingface.co/ckpt/chilloutmix/resolve/main/chilloutmix_NiPrunedFp32Fix.safetensors\n",
        "Counterfeit_V2_5_7GB = False #@param {type:\"boolean\"}\n",
        "if Counterfeit_V2_5_7GB  == True :\n",
        "  !curl -Lo /content/Stable_Diff_WebUI_with_Ext/models/Stable-diffusion/Counterfeit-V2.5.safetensors https://huggingface.co/gsdf/Counterfeit-V2.5/resolve/main/Counterfeit-V2.5.safetensors\n",
        "Openjourney_V4_2GB = False #@param {type:\"boolean\"}\n",
        "if Openjourney_V4_2GB == True :\n",
        "  !curl -Lo /content/Stable_Diff_WebUI_with_Ext/models/Stable-diffusion/openjourney-v4.ckpt https://huggingface.co/prompthero/openjourney-v4/resolve/main/openjourney-v4.ckpt\n",
        "Realistic_Vision_V2_3GB = True #@param {type:\"boolean\"}\n",
        "if Realistic_Vision_V2_3GB == True :\n",
        "  !curl -Lo /content/Stable_Diff_WebUI_with_Ext/models/Stable-diffusion/Realistic_Vision_V2.0.safetensors https://huggingface.co/SG161222/Realistic_Vision_V2.0/resolve/main/Realistic_Vision_V2.0.safetensors\n",
        "ReV_Animated_5GB = True #@param {type:\"boolean\"}\n",
        "if ReV_Animated_5GB == True :\n",
        "  !curl -Lo /content/Stable_Diff_WebUI_with_Ext/models/Stable-diffusion/rev_1.2.2.safetensors https://huggingface.co/s6yx/ReV_Animated/resolve/main/rev_1.2.2/rev_1.2.2.safetensors\n",
        "GhostMix_2GB = False #@param {type:\"boolean\"}\n",
        "if GhostMix_2GB == True :\n",
        "  !cd /content/Stable_Diff_WebUI_with_Ext/models/Stable-diffusion; wget https://civitai.com/api/download/models/59685 --content-disposition\n",
        "#@markdown #3. VAE setup : Choose any VAE that you want.\n",
        "blessed2_vae_319MB = False #@param {type:\"boolean\"}\n",
        "if blessed2_vae_319MB  == True :\n",
        "  !curl -Lo /content/Stable_Diff_WebUI_with_Ext/models/VAE/blessed2.vae.pt https://huggingface.co/NoCrypt/blessed_vae/resolve/main/blessed2.vae.pt\n",
        "kl_f8_anime2_385MB = True #@param {type:\"boolean\"}\n",
        "if kl_f8_anime2_385MB  == True :\n",
        "  !curl -Lo /content/Stable_Diff_WebUI_with_Ext/models/VAE/kl-f8-anime2.ckpt https://huggingface.co/hakurei/waifu-diffusion-v1-4/resolve/main/vae/kl-f8-anime2.ckpt\n",
        "pastel_waifu_vae_385MB = False #@param {type:\"boolean\"}\n",
        "if pastel_waifu_vae_385MB  == True :\n",
        "  !curl -Lo /content/Stable_Diff_WebUI_with_Ext/models/VAE/pastel-waifu-diffusion.vae.pt https://huggingface.co/andite/pastel-mix/resolve/main/pastel-waifu-diffusion.vae.pt\n",
        "\n",
        "#@markdown #4. LoRA setup : Add or choose any LoRA that you want.\n",
        "LoRA_url = \"https://huggingface.co/YoungMasterFromSect/Trauter_LoRAs/resolve/main/LoRA/Genshin-Impact/yae%20miko/yae%20miko_Heavypruned.safetensors\" #@param {type:\"string\"}\n",
        "LoRA_name = LoRA_url.split(\"/\")\n",
        "if LoRA_url  != \"\":\n",
        "  !curl -Lo /content/Stable_Diff_WebUI_with_Ext/models/Lora/{LoRA_name[-1]} {LoRA_url}\n",
        "CIVITAiLoRA1_url = \"https://civitai.com/api/download/models/58690\" #@param {type:\"string\"}\n",
        "if CIVITAiLoRA1_url  != \"\" :\n",
        "  !cd /content/Stable_Diff_WebUI_with_Ext/models/Lora; wget {CIVITAiLoRA1_url} --content-disposition\n",
        "CIVITAiLoRA2_url = \"https://civitai.com/api/download/models/10029\" #@param {type:\"string\"}\n",
        "if CIVITAiLoRA2_url  != \"\" :\n",
        "  !cd /content/Stable_Diff_WebUI_with_Ext/models/Lora; wget {CIVITAiLoRA2_url} --content-disposition\n",
        "StudioGhibliLoRA = True #@param {type:\"boolean\"} \n",
        "if StudioGhibliLoRA  == True :\n",
        "  !cd /content/Stable_Diff_WebUI_with_Ext/models/Lora; wget https://civitai.com/api/download/models/7657 --content-disposition\n",
        "ModernpixelLoRA = False #@param {type:\"boolean\"} \n",
        "if ModernpixelLoRA  == True :\n",
        "  !cd /content/Stable_Diff_WebUI_with_Ext/models/Lora; wget https://civitai.com/api/download/models/52870 --content-disposition\n",
        "BetterBodyLoRA = True #@param {type:\"boolean\"} \n",
        "if BetterBodyLoRA  == True :\n",
        "  !cd /content/Stable_Diff_WebUI_with_Ext/models/Lora; wget https://civitai.com/api/download/models/23250 --content-disposition\n",
        "LOLstyleLoRA = False #@param {type:\"boolean\"} \n",
        "if LOLstyleLoRA  == True :\n",
        "  !cd /content/Stable_Diff_WebUI_with_Ext/models/Lora; wget https://civitai.com/api/download/models/8339 --content-disposition\n",
        "  \n",
        "eula = False #@param {type:\"boolean\"} \n",
        "if eula == True :\n",
        "  !curl -Lo /content/Stable_Diff_WebUI_with_Ext/models/Lora/eulaHard.safetensors https://huggingface.co/YoungMasterFromSect/Trauter_LoRAs/resolve/main/LoRA/Genshin-Impact/Eula/eulaHard.safetensors\n",
        "\n",
        "#@markdown  #5. ControlNet Extensions setup\n",
        "# ControlNet\n",
        "ControlNet_Model = \"ControlNet_and_t2iadapter\"  #@param ['ControlNet_and_t2iadapter', 'ControlNet_extension', 't2iadapter_extension']\n",
        "if ControlNet_Model  == 'ControlNet_extension' or ControlNet_Model  == 'ControlNet_and_t2iadapter' :\n",
        "  !curl -Lo /content/Stable_Diff_WebUI_with_Ext/extensions/sd-webui-controlnet/models/control_canny.safetensors https://huggingface.co/webui/ControlNet-modules-safetensors/resolve/main/control_canny-fp16.safetensors\n",
        "  !curl -Lo /content/Stable_Diff_WebUI_with_Ext/extensions/sd-webui-controlnet/models/control_depth.safetensors https://huggingface.co/webui/ControlNet-modules-safetensors/resolve/main/control_depth-fp16.safetensors\n",
        "  !curl -Lo /content/Stable_Diff_WebUI_with_Ext/extensions/sd-webui-controlnet/models/control_hed-fp16.safetensors https://huggingface.co/webui/ControlNet-modules-safetensors/resolve/main/control_hed-fp16.safetensors\n",
        "  !curl -Lo /content/Stable_Diff_WebUI_with_Ext/extensions/sd-webui-controlnet/models/control_mlsd-fp16.safetensors https://huggingface.co/webui/ControlNet-modules-safetensors/resolve/main/control_mlsd-fp16.safetensors\n",
        "  !curl -Lo /content/Stable_Diff_WebUI_with_Ext/extensions/sd-webui-controlnet/models/control_normal-fp16.safetensors https://huggingface.co/webui/ControlNet-modules-safetensors/resolve/main/control_normal-fp16.safetensors\n",
        "  !curl -Lo /content/Stable_Diff_WebUI_with_Ext/extensions/sd-webui-controlnet/models/control_openpose-fp16.safetensors https://huggingface.co/webui/ControlNet-modules-safetensors/resolve/main/control_openpose-fp16.safetensors\n",
        "  !curl -Lo /content/Stable_Diff_WebUI_with_Ext/extensions/sd-webui-controlnet/models/control_scribble-fp16.safetensors https://huggingface.co/webui/ControlNet-modules-safetensors/resolve/main/control_scribble-fp16.safetensors\n",
        "  !curl -Lo /content/Stable_Diff_WebUI_with_Ext/extensions/sd-webui-controlnet/models/control_seg-fp16.safetensors https://huggingface.co/webui/ControlNet-modules-safetensors/resolve/main/control_seg-fp16.safetensors\n",
        "if ControlNet_Model  == 't2iadapter_extension' or ControlNet_Model  == 'ControlNet_and_t2iadapter' :\n",
        "  !curl -Lo /content/Stable_Diff_WebUI_with_Ext/extensions/sd-webui-controlnet/models/t2iadapter_canny_sd15v2.pth https://huggingface.co/TencentARC/T2I-Adapter/resolve/main/models/t2iadapter_canny_sd15v2.pth\n",
        "  !curl -Lo /content/Stable_Diff_WebUI_with_Ext/extensions/sd-webui-controlnet/models/t2iadapter_color_sd14v1.pth https://huggingface.co/TencentARC/T2I-Adapter/resolve/main/models/t2iadapter_color_sd14v1.pth\n",
        "  !curl -Lo /content/Stable_Diff_WebUI_with_Ext/extensions/sd-webui-controlnet/models/t2iadapter_depth_sd15v2.pth https://huggingface.co/TencentARC/T2I-Adapter/resolve/main/models/t2iadapter_depth_sd15v2.pth\n",
        "  !curl -Lo /content/Stable_Diff_WebUI_with_Ext/extensions/sd-webui-controlnet/models/t2iadapter_keypose_sd14v1.pth https://huggingface.co/TencentARC/T2I-Adapter/resolve/main/models/t2iadapter_keypose_sd14v1.pth\n",
        "  !curl -Lo /content/Stable_Diff_WebUI_with_Ext/extensions/sd-webui-controlnet/models/t2iadapter_openpose_sd14v1.pth https://huggingface.co/TencentARC/T2I-Adapter/resolve/main/models/t2iadapter_openpose_sd14v1.pth\n",
        "  !curl -Lo /content/Stable_Diff_WebUI_with_Ext/extensions/sd-webui-controlnet/models/t2iadapter_seg_sd14v1.pth https://huggingface.co/TencentARC/T2I-Adapter/resolve/main/models/t2iadapter_seg_sd14v1.pth\n",
        "  !curl -Lo /content/Stable_Diff_WebUI_with_Ext/extensions/sd-webui-controlnet/models/t2iadapter_sketch_sd15v2.pth  https://huggingface.co/TencentARC/T2I-Adapter/resolve/main/models/t2iadapter_sketch_sd15v2.pth\n",
        "  !curl -Lo /content/Stable_Diff_WebUI_with_Ext/extensions/sd-webui-controlnet/models/t2iadapter_style_sd14v1.pth https://huggingface.co/TencentARC/T2I-Adapter/resolve/main/models/t2iadapter_style_sd14v1.pth\n",
        "%cd /content/Stable_Diff_WebUI_with_Ext\n",
        "\n",
        "# Web UI tunnel\n",
        "#!COMMANDLINE_ARGS=\"--share --disable-safe-unpickle --no-half-vae --xformers --enable-insecure-extension --gradio-queue --theme dark --remotemoe\" REQS_FILE=\"requirements.txt\" python launch.py\n",
        "# If remotemoe failed to start, change '--remotemoe' to '--cloudflared' on the COMMANDLINE_ARGS line above to use cloudflare tunnel"
      ]
    },
    {
      "cell_type": "markdown",
      "metadata": {
        "id": "DQwVPx-t8Nol"
      },
      "source": [
        "# 3. If you want to add your own models from GDrive RUN These \n",
        "# If not you can go Step 4."
      ]
    },
    {
      "cell_type": "code",
      "execution_count": null,
      "metadata": {
        "cellView": "form",
        "id": "alypPmxi69M4"
      },
      "outputs": [],
      "source": [
        "add_own_model = False #@param {type:\"boolean\"} \n",
        "if add_own_model == True :\n",
        "  from google.colab import drive\n",
        "  drive.mount('/content/drive')\n",
        "\n",
        "  # You need to upload Model, Lora and Embeddings into google drive on specific path.\n",
        "  !mkdir -p '/content/drive/MyDrive/Colab Notebooks/My_Lora/'\n",
        "  !mkdir -p '/content/drive/MyDrive/Colab Notebooks/My_Model/'\n",
        "  #!mkdir -p '/content/drive/MyDrive/Colab Notebooks/My_Embeddings/'\n",
        "  #!mkdir -p '/content/drive/MyDrive/Colab Notebooks/My_ESRGAN/'\n",
        "  !cp -r '/content/drive/MyDrive/Colab Notebooks/My_Lora/.' '/content/Stable_Diff_WebUI_with_Ext/models/Lora'\n",
        "  !cp -r '/content/drive/MyDrive/Colab Notebooks/My_Model/.' '/content/Stable_Diff_WebUI_with_Ext/models/Stable-diffusion'\n",
        "  #!cp -r '/content/drive/MyDrive/Colab Notebooks/My_Embeddings/.' '/content/Stable_Diff_WebUI_with_Ext/embeddings'\n",
        "  #!cp -r '/content/drive/MyDrive/Colab Notebooks/My_ESRGAN/.' '/content/Stable_Diff_WebUI_with_Ext/models/ESRGAN'"
      ]
    },
    {
      "cell_type": "markdown",
      "metadata": {
        "id": "R-WXDJ8n8R2X"
      },
      "source": [
        "# 4. Launch the Web UI\n",
        "# Click at public URL to Used Web UI via tunnel"
      ]
    },
    {
      "cell_type": "code",
      "execution_count": null,
      "metadata": {
        "id": "r0Rf4CUgnU_E"
      },
      "outputs": [],
      "source": [
        "#@title  { vertical-output: true, display-mode: \"form\" }\n",
        "#@title  { vertical-output: true }\n",
        "# Web UI tunnel\n",
        "%cd /content/Stable_Diff_WebUI_with_Ext\n",
        "#!git checkout c56417748754758e58081c4cfee0929a5f894118\n",
        "tunnels = \"remotemoe\"  #@param ['remotemoe', 'bore', 'cloudflared', 'localhostrun']\n",
        "if tunnels == 'remotemoe' :\n",
        "  !COMMANDLINE_ARGS=\"--share --disable-safe-unpickle --no-half-vae --xformers --enable-insecure-extension --theme dark --gradio-queue --remotemoe\" REQS_FILE=\"requirements.txt\" python launch.py\n",
        "elif tunnels == 'bore' :\n",
        "  !COMMANDLINE_ARGS=\"--share --disable-safe-unpickle --no-half-vae --xformers --enable-insecure-extension --theme dark --gradio-queue --bore\" REQS_FILE=\"requirements.txt\" python launch.py\n",
        "elif tunnels == 'cloudflared' :\n",
        "  !COMMANDLINE_ARGS=\"--share --disable-safe-unpickle --no-half-vae --xformers --enable-insecure-extension --theme dark --gradio-queue --cloudflared\" REQS_FILE=\"requirements.txt\" python launch.py\n",
        "elif tunnels == 'localhostrun' :\n",
        "  !COMMANDLINE_ARGS=\"--share --disable-safe-unpickle --no-half-vae --xformers --enable-insecure-extension --theme dark --gradio-queue --localhostrun\" REQS_FILE=\"requirements.txt\" python launch.py\n",
        "\n",
        "#!COMMANDLINE_ARGS=\"--share --disable-safe-unpickle --no-half-vae --xformers --enable-insecure-extension --theme dark --no-gradio-queue --googleusercontent\" REQS_FILE=\"requirements.txt\" python launch.py\n",
        "# If remotemoe failed to start, change  '--remotemoe' to '--cloudflared' or --localhostrun on the COMMANDLINE_ARGS line above to use another tunnel\n",
        "# Negative prompts: (low quality, worst quality:1.4)"
      ]
    },
    {
      "cell_type": "code",
      "execution_count": null,
      "metadata": {
        "id": "0xK2m84ICF69"
      },
      "outputs": [],
      "source": [
        "from google.colab import drive\n",
        "drive.mount('/content/drive')\n",
        "# Copy all genterate file to outputs folder on Google Drive\n",
        "# Stop SD Webui before run these cell\n",
        "\n",
        "!mkdir -p '/content/drive/MyDrive/outputs/'\n",
        "!cp -r '/content/Stable_Diff_WebUI_with_Ext/outputs/.' '/content/drive/MyDrive/outputs/'\n",
        "# ...."
      ]
    },
    {
      "cell_type": "code",
      "execution_count": null,
      "metadata": {
        "id": "bzTvTWHPCEkx"
      },
      "outputs": [],
      "source": [
        "!zip -r /content/outputs.zip /content/Stable_Diff_WebUI_with_Ext/outputs"
      ]
    }
  ],
  "metadata": {
    "accelerator": "GPU",
    "colab": {
      "provenance": [],
      "include_colab_link": true
    },
    "gpuClass": "standard",
    "kernelspec": {
      "display_name": "Python 3",
      "name": "python3"
    },
    "language_info": {
      "name": "python"
    }
  },
  "nbformat": 4,
  "nbformat_minor": 0
}